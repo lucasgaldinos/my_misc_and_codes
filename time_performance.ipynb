{
 "cells": [
  {
   "cell_type": "code",
   "execution_count": 0,
   "metadata": {
    "application/vnd.databricks.v1+cell": {
     "cellMetadata": {
      "byteLimit": 2048000,
      "rowLimit": 10000
     },
     "inputWidgets": {},
     "nuid": "c52d3582-1948-450a-8359-1c5c62ddc99a",
     "showTitle": false,
     "title": ""
    }
   },
   "outputs": [],
   "source": [
    "from time import perf_counter\n",
    "import inspect"
   ]
  },
  {
   "cell_type": "code",
   "execution_count": 0,
   "metadata": {
    "application/vnd.databricks.v1+cell": {
     "cellMetadata": {
      "byteLimit": 2048000,
      "rowLimit": 10000
     },
     "inputWidgets": {},
     "nuid": "11e90218-6677-40cd-8cb4-376a31b4382e",
     "showTitle": false,
     "title": ""
    }
   },
   "outputs": [],
   "source": [
    "def time_perf(func):\n",
    "    total_time = 0\n",
    "\n",
    "    def wrapper(*args, **kwargs):\n",
    "        nonlocal total_time\n",
    "        t_start = perf_counter()\n",
    "        result = func(*args, **kwargs)\n",
    "        t_end = perf_counter()\n",
    "        execution_time = t_end - t_start\n",
    "        total_time += execution_time\n",
    "        print(f\"time: {execution_time}\")\n",
    "        return result\n",
    "\n",
    "    def get_total_time():\n",
    "        return total_time\n",
    "\n",
    "    wrapper.get_total_time = get_total_time\n",
    "    return wrapper"
   ]
  },
  {
   "cell_type": "code",
   "execution_count": 0,
   "metadata": {
    "application/vnd.databricks.v1+cell": {
     "cellMetadata": {
      "byteLimit": 2048000,
      "rowLimit": 10000
     },
     "inputWidgets": {},
     "nuid": "fd931e89-b3b6-4d97-8c49-0a793aa6a53e",
     "showTitle": false,
     "title": ""
    }
   },
   "outputs": [],
   "source": [
    "def my_time_it(func):\n",
    "    \"\"\"create wrapper for perf_counter\"\"\"\n",
    "    def wrapper(*args, **kwargs):\n",
    "        t1_start = perf_counter()\n",
    "        result = func(*args, **kwargs)\n",
    "        t1_end = perf_counter()\n",
    "        print(f\"{len(args[0])}, time: {t1_end - t1_start}\")\n",
    "        return result\n",
    "\n",
    "    return wrapper"
   ]
  },
  {
   "cell_type": "code",
   "execution_count": 0,
   "metadata": {
    "application/vnd.databricks.v1+cell": {
     "cellMetadata": {
      "byteLimit": 2048000,
      "rowLimit": 10000
     },
     "inputWidgets": {},
     "nuid": "f617c301-9039-4138-83bf-aa60e1126007",
     "showTitle": false,
     "title": ""
    }
   },
   "outputs": [],
   "source": [
    "@time_perf\n",
    "def disp_time(df):\n",
    "    df.display()"
   ]
  },
  {
   "cell_type": "code",
   "execution_count": 0,
   "metadata": {
    "application/vnd.databricks.v1+cell": {
     "cellMetadata": {},
     "inputWidgets": {},
     "nuid": "a015f753-e4a0-4a08-a264-d58ad27298d4",
     "showTitle": true,
     "title": "Examples"
    }
   },
   "outputs": [],
   "source": [
    "# t1_start = perf_counter()\n",
    "\n",
    "# # code\n",
    "\n",
    "# t1_end = perf_counter()\n",
    "# print(f\"{len(lista)}, time: {t1_end-t1_start}\")\n",
    "\n",
    "# Examples on deere\n",
    "# @time_perf\n",
    "# def process_data(\n",
    "#     df: DataFrame, product: str, str_to_filter: str, join_column: str = \"unique_id\"\n",
    "# ):  # (df: DataFrame, product: str, str_to_filter: str, column_to_filter: str)\n",
    "#     \"\"\"\n",
    "#     # TO-DO: Must be implemented to va_03, not only dealer_export, by substituting also the column SUBCATEGORY\"\"\"\n",
    "#     product_type = df.filter(col(\"SUBCATEGORY\").rlike(str_to_filter)).orderBy(\n",
    "#         \"SUBCATEGORY\"\n",
    "#     ) # col(column_to_filter)....orderBy(column_to_filter)\n",
    "#     print(f\"{product} = {product_type.count()}\")\n",
    "#     new_df_name = df.join(\n",
    "#         product_type, on=join_column, how=\"left_anti\" # on = column_to_filter\n",
    "#     ) # or this step is making the process take to long\n",
    "#     new_df_name = new_df_name\n",
    "#     del df\n",
    "#     return new_df_name, product_type\n",
    "\n",
    "\n"
   ]
  }
 ],
 "metadata": {
  "application/vnd.databricks.v1+notebook": {
   "dashboards": [],
   "environmentMetadata": null,
   "language": "python",
   "notebookMetadata": {
    "mostRecentlyExecutedCommandWithImplicitDF": {
     "commandId": 1436572725416906,
     "dataframes": [
      "_sqldf"
     ]
    },
    "pythonIndentUnit": 2
   },
   "notebookName": "time_performance",
   "widgets": {}
  }
 },
 "nbformat": 4,
 "nbformat_minor": 0
}
